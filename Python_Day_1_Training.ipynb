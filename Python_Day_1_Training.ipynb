{
  "nbformat": 4,
  "nbformat_minor": 0,
  "metadata": {
    "colab": {
      "name": "Python Day 1 Training.ipynb",
      "version": "0.3.2",
      "provenance": [],
      "collapsed_sections": []
    },
    "kernelspec": {
      "name": "python3",
      "display_name": "Python 3"
    }
  },
  "cells": [
    {
      "cell_type": "code",
      "metadata": {
        "id": "TJbUHPeN3iOH",
        "colab_type": "code",
        "colab": {
          "base_uri": "https://localhost:8080/",
          "height": 33
        },
        "outputId": "bac2f6d3-4e31-4e25-d959-c36ee4de87e1"
      },
      "source": [
        "print (\"Hello World !!\")"
      ],
      "execution_count": 1,
      "outputs": [
        {
          "output_type": "stream",
          "text": [
            "Hello World !!\n"
          ],
          "name": "stdout"
        }
      ]
    },
    {
      "cell_type": "code",
      "metadata": {
        "id": "lxZePGl_34e4",
        "colab_type": "code",
        "colab": {
          "base_uri": "https://localhost:8080/",
          "height": 50
        },
        "outputId": "2b23f60b-6f20-48cd-d462-f7a47dd69ece"
      },
      "source": [
        "#Print List\n",
        "L1 = [2,4,5,8,10]\n",
        "L2 = [1,3,5,7,9]\n",
        "type(L1)\n",
        "\n",
        "add = L1[0] + L1[1] + L1[2] + L1[3] + L1[4] + L2[0] + L2[1] + L2[2] + L2[3] + L2[4]\n",
        "print (add)\n",
        "\n",
        "multiply = (L1[0]*2) + (L1[1]*2) + (L1[2]*2) + (L1[3]*2) + (L1[4]*2)\n",
        "print (multiply)\n"
      ],
      "execution_count": 32,
      "outputs": [
        {
          "output_type": "stream",
          "text": [
            "54\n",
            "58\n"
          ],
          "name": "stdout"
        }
      ]
    },
    {
      "cell_type": "code",
      "metadata": {
        "id": "Hb9KY_XT_qp7",
        "colab_type": "code",
        "colab": {
          "base_uri": "https://localhost:8080/",
          "height": 117
        },
        "outputId": "02453d33-f616-4585-9abd-000dad66ded1"
      },
      "source": [
        "#Range  and Index Function\n",
        "a1 = list (range (0,361,30))\n",
        "print (a1)\n",
        "\n",
        "#l1 = a1\n",
        "#i1 = l1[3]\n",
        "#i2 = l1[9]\n",
        "\n",
        "i1 = a1.index(90)\n",
        "i2 = a1.index(270)\n",
        "\n",
        "print (i1)\n",
        "print (i2)\n",
        "\n",
        "len(a1)\n",
        "\n",
        "#i1_rev = rangefunction.index()\n",
        "#i2_rev = rangefunction.index()\n",
        "\n",
        "i1_rev = len (a1) -1 -i1\n",
        "i2_rev = len (a1) -1 -i2\n",
        "\n",
        "print (i1_rev)\n",
        "print (i2_rev)\n",
        "\n",
        "subset_a1 = a1 [i1_rev:i2_rev-1:-1]\n",
        "print (subset_a1)\n",
        "\n"
      ],
      "execution_count": 65,
      "outputs": [
        {
          "output_type": "stream",
          "text": [
            "[0, 30, 60, 90, 120, 150, 180, 210, 240, 270, 300, 330, 360]\n",
            "3\n",
            "9\n",
            "9\n",
            "3\n",
            "[270, 240, 210, 180, 150, 120, 90]\n"
          ],
          "name": "stdout"
        }
      ]
    },
    {
      "cell_type": "code",
      "metadata": {
        "id": "HeRKi519d8sB",
        "colab_type": "code",
        "colab": {
          "base_uri": "https://localhost:8080/",
          "height": 84
        },
        "outputId": "093e63b6-e897-4787-a362-d96546338337"
      },
      "source": [
        "#Copy Function\n",
        "L1 = [1,2,3,4,5,6,7,8,9,10]\n",
        "L2 = L1.copy()\n",
        "print (L2)\n",
        "L2.remove(L2[3])\n",
        "L3 = L1[:]\n",
        "print (L2)\n",
        "print (L1)\n",
        "print (L3)\n"
      ],
      "execution_count": 78,
      "outputs": [
        {
          "output_type": "stream",
          "text": [
            "[1, 2, 3, 4, 5, 6, 7, 8, 9, 10]\n",
            "[1, 2, 3, 5, 6, 7, 8, 9, 10]\n",
            "[1, 2, 3, 4, 5, 6, 7, 8, 9, 10]\n",
            "[1, 2, 3, 4, 5, 6, 7, 8, 9, 10]\n"
          ],
          "name": "stdout"
        }
      ]
    },
    {
      "cell_type": "code",
      "metadata": {
        "id": "uEgNbeNp8pdU",
        "colab_type": "code",
        "colab": {}
      },
      "source": [
        "import numpy as np\n",
        "import tensorflow as tf"
      ],
      "execution_count": 0,
      "outputs": []
    },
    {
      "cell_type": "code",
      "metadata": {
        "id": "JNEbspV9ovab",
        "colab_type": "code",
        "colab": {
          "base_uri": "https://localhost:8080/",
          "height": 50
        },
        "outputId": "df383091-6cd4-4ca5-c9f1-aa383dbc06f5"
      },
      "source": [
        "#Tuple \n",
        "\n",
        "tup1 = (1,2,3,4,5)\n",
        "print(tup1)\n",
        "tup1 = tup1 + (6,7,8)\n",
        "print(tup1)\n",
        "\n"
      ],
      "execution_count": 92,
      "outputs": [
        {
          "output_type": "stream",
          "text": [
            "(1, 2, 3, 4, 5)\n",
            "(1, 2, 3, 4, 5, 6, 7, 8)\n"
          ],
          "name": "stdout"
        }
      ]
    },
    {
      "cell_type": "code",
      "metadata": {
        "id": "qzCyrpdtzF4P",
        "colab_type": "code",
        "colab": {
          "base_uri": "https://localhost:8080/",
          "height": 50
        },
        "outputId": "39527f78-624a-453f-acb9-bba748d57621"
      },
      "source": [
        "state = {'Andra Pradesh': [49,'Hyderabad',False],'Arunachal Pradesh' : [35,'Itana Nagar', True]}\n",
        "print(state['Andra Pradesh'])\n",
        "state['Telangana'] = [300,'Hyderabad', True]\n",
        "\n",
        "print(state['Telangana'])"
      ],
      "execution_count": 101,
      "outputs": [
        {
          "output_type": "stream",
          "text": [
            "[49, 'Hyderabad', False]\n",
            "[300, 'Hyderabad', True]\n"
          ],
          "name": "stdout"
        }
      ]
    },
    {
      "cell_type": "code",
      "metadata": {
        "id": "nzXR2kWL9vYv",
        "colab_type": "code",
        "colab": {
          "base_uri": "https://localhost:8080/",
          "height": 50
        },
        "outputId": "09de2b89-5f57-4319-c014-00e8e311c702"
      },
      "source": [
        "#Function\n",
        "#def circumference (r):\n",
        " # cir=2*3.14*r\n",
        "  #return(cir)\n",
        "\n",
        "def deg_rad(angle):\n",
        "  rad = (angle*3.14/180)\n",
        "  return (rad)\n",
        "\n",
        "rad_angle = deg_rad(360)\n",
        "print(rad_angle)\n",
        "\n",
        "deg_rad_inline = lambda angle,rotate : angle/360*22/7+ rotate\n",
        "deg_rad_inline(360, deg_rad(90))\n",
        "\n",
        "\n",
        "  \n",
        "\n"
      ],
      "execution_count": 119,
      "outputs": [
        {
          "output_type": "stream",
          "text": [
            "6.28\n"
          ],
          "name": "stdout"
        },
        {
          "output_type": "execute_result",
          "data": {
            "text/plain": [
              "4.712857142857143"
            ]
          },
          "metadata": {
            "tags": []
          },
          "execution_count": 119
        }
      ]
    }
  ]
}